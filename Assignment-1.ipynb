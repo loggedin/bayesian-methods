{
 "cells": [
  {
   "cell_type": "code",
   "execution_count": 1,
   "id": "94773086-cf98-409d-bf2f-2d7b5134887f",
   "metadata": {},
   "outputs": [],
   "source": [
    "import matplotlib.pyplot as plt\n",
    "import networkx as nx\n",
    "import numpy as np\n",
    "import pylab as plt\n",
    "from pgmpy.factors.discrete import TabularCPD\n",
    "from pgmpy.inference import VariableElimination\n",
    "from pgmpy.models import BayesianNetwork\n",
    "from pgmpy.sampling import BayesianModelSampling"
   ]
  },
  {
   "cell_type": "markdown",
   "id": "b4dd8691-5ef1-49b6-8f72-3ddd2840b1a6",
   "metadata": {},
   "source": [
    "# Question 1"
   ]
  },
  {
   "cell_type": "markdown",
   "id": "8ce2d226-2035-4d59-b870-12acf8ad6d7a",
   "metadata": {},
   "source": [
    "## a)"
   ]
  },
  {
   "cell_type": "markdown",
   "id": "5a4aa934-838e-490c-9ede-6eabc1d8c252",
   "metadata": {},
   "source": [
    "### i.\n",
    "\n",
    "Since $C_T$ is not a random variable,\n",
    "\n",
    "$$\n",
    "\\mathbb{E}[Y_T - C_T] = \\mathbb{E}[Y_T] - C_T.\n",
    "$$\n",
    "\n",
    "Denote the winnings from roll $i$ by $Y_i$. Since $Y_i \\sim \\text{Uniform}(1, 2, 3, 4, 5, 0)$,\n",
    "\n",
    "$$\n",
    "\\mathbb{E}[Y_i] = \\frac{1}{6} \\left( 1 + 2 + 3 + 4 + 5 + 0 \\right) = \\frac{5}{2}.\n",
    "$$\n",
    "\n",
    "The probability of a six not being rolled on or after the second roll is $\\left( \\frac{5}{6} \\right) ^ {T-1}$.\n",
    "\n",
    "Therefore, we have that\n",
    "\n",
    "$$\n",
    "\\mathbb{E}[Y_T - C_T] = \\frac{5}{2} T \\left( \\frac{5}{6} \\right) ^ {T-1} - C_T.\n",
    "$$"
   ]
  },
  {
   "cell_type": "markdown",
   "id": "c56973c1-1436-4889-9827-aa396cfd82c2",
   "metadata": {},
   "source": [
    "### ii."
   ]
  },
  {
   "cell_type": "code",
   "execution_count": 2,
   "id": "464d2f8d-fe3e-4729-af8a-cd6cce10a578",
   "metadata": {},
   "outputs": [
    {
     "data": {
      "image/png": "[encoded data removed]",
      "text/plain": [
       "<Figure size 640x480 with 1 Axes>"
      ]
     },
     "metadata": {},
     "output_type": "display_data"
    }
   ],
   "source": [
    "def calculate_expected_accumulated_winnings(T):\n",
    "    # Use the equation above\n",
    "    return (5/2) * T * (5/6) ** (T-1)\n",
    "\n",
    "Ts = np.arange(1, 16)\n",
    "expected_profits = []\n",
    "\n",
    "for T in Ts:\n",
    "    expected_profits.append(calculate_expected_accumulated_winnings(T) - 5)\n",
    "\n",
    "plt.scatter(Ts, expected_profits, label='C_T=5')\n",
    "plt.ylabel('Expected profit')\n",
    "plt.xlabel('Number of rolls, T')\n",
    "plt.xticks(Ts)\n",
    "plt.legend()\n",
    "plt.show()"
   ]
  },
  {
   "cell_type": "markdown",
   "id": "2d817aa6-9c57-4b64-b7ae-0d2664e71ca1",
   "metadata": {},
   "source": [
    "From the above plot, we can see that $T \\in \\{3, 4, 5, 6, 7, 8, 9 \\}$ lead to a positive expected profit."
   ]
  },
  {
   "cell_type": "markdown",
   "id": "9bd8980a-321c-4f91-ac0a-d8632f257ddf",
   "metadata": {},
   "source": [
    "### iii.\n",
    "\n",
    "When $C \\leq £6.02$, either take 5 or 6 rolls.\n",
    "\n",
    "When $C > £6.02$, do not participate."
   ]
  },
  {
   "cell_type": "markdown",
   "id": "14605067-4ce5-407d-8266-ad88d0d8c0b8",
   "metadata": {},
   "source": [
    "## b)"
   ]
  },
  {
   "cell_type": "code",
   "execution_count": 3,
   "id": "1f7a1599-df8f-4b90-9333-f1650fd5f811",
   "metadata": {},
   "outputs": [],
   "source": [
    "def simulate_game(T):\n",
    "    accumulated_winnings = 0\n",
    "    # Iterate through T rolls\n",
    "    for _ in range(T):\n",
    "        roll = np.random.randint(1, 7)\n",
    "        # Handle the case when a six is rolled\n",
    "        if roll == 6:\n",
    "            accumulated_winnings = 0\n",
    "            break\n",
    "        else:\n",
    "            accumulated_winnings += roll\n",
    "    return accumulated_winnings\n",
    "\n",
    "def calculate_pmf(T, n_sim):\n",
    "    results = []\n",
    "    # Iterate through n_sim simulations\n",
    "    for _ in range(n_sim):\n",
    "        result = simulate_game(T)\n",
    "        results.append(result)\n",
    "    # Initialise pmf as an array containing an entry for each Y_T = [ 0, ..., 5T ]\n",
    "    pmf = np.zeros(5*T + 1)\n",
    "    for result in results:\n",
    "        pmf[result] += 1\n",
    "    pmf /= n_sim\n",
    "    return pmf"
   ]
  },
  {
   "cell_type": "code",
   "execution_count": 4,
   "id": "ec4aeda8-28db-44f0-bf9a-741f3c2dbe93",
   "metadata": {},
   "outputs": [
    {
     "name": "stdout",
     "output_type": "stream",
     "text": [
      "P(Y_3 = 5) = 0.0277881\n",
      "P(Y_8 = 30) = 0.0078341\n"
     ]
    }
   ],
   "source": [
    "# Evaluate P(Y_3 = 5)\n",
    "print('P(Y_3 = 5) =', calculate_pmf(3, int(1e7))[5])\n",
    "\n",
    "# Evaluate P(Y_8 = 30)\n",
    "print('P(Y_8 = 30) =', calculate_pmf(8, int(1e7))[30])"
   ]
  },
  {
   "cell_type": "markdown",
   "id": "796203f1-88fb-4dd3-827d-a12a27060c67",
   "metadata": {},
   "source": [
    "## c)"
   ]
  },
  {
   "cell_type": "markdown",
   "id": "86f7d65d-490f-4299-a506-b6bcec298239",
   "metadata": {},
   "source": [
    "### i."
   ]
  },
  {
   "cell_type": "code",
   "execution_count": 5,
   "id": "fbe05978-9575-4e18-9b62-a462fa1b40f7",
   "metadata": {},
   "outputs": [],
   "source": [
    "def calculate_expected_utility(T, C_T, u_func, n_sim):\n",
    "    pmf = calculate_pmf(T, n_sim)\n",
    "    possible_profits = np.arange(5*T + 1) - C_T\n",
    "    utilities = u_func(possible_profits)\n",
    "    return np.sum(pmf * utilities)"
   ]
  },
  {
   "cell_type": "markdown",
   "id": "64553cbe-bb0c-446e-afc2-86c0d95ea9c0",
   "metadata": {},
   "source": [
    "### ii."
   ]
  },
  {
   "cell_type": "code",
   "execution_count": 6,
   "id": "a70efe2f-b8aa-4e9d-b9c3-5fe0d1570f4c",
   "metadata": {},
   "outputs": [
    {
     "data": {
      "text/plain": [
       "0.0010781002599434457"
      ]
     },
     "execution_count": 6,
     "metadata": {},
     "output_type": "execute_result"
    }
   ],
   "source": [
    "def u(x):\n",
    "    # Use Equation 1\n",
    "    return np.log(x + 50) - np.log(50)\n",
    "\n",
    "calculate_expected_utility(7, 5, u, int(1e7))"
   ]
  },
  {
   "cell_type": "markdown",
   "id": "ecbac703-d276-4b54-9f2a-4bebea490e3c",
   "metadata": {},
   "source": [
    "If $7$ was the only option for $T$, the player would choose to enter into this game as the expected utility is positive."
   ]
  },
  {
   "cell_type": "markdown",
   "id": "4b86b2f4-67fc-4243-aff7-b6949ad019bc",
   "metadata": {},
   "source": [
    "### iii."
   ]
  },
  {
   "cell_type": "code",
   "execution_count": 7,
   "id": "0df16466-31cf-4b16-b5ca-bde13bba2f05",
   "metadata": {},
   "outputs": [
    {
     "data": {
      "image/png": "[encoded data removed]",
      "text/plain": [
       "<Figure size 640x480 with 1 Axes>"
      ]
     },
     "metadata": {},
     "output_type": "display_data"
    }
   ],
   "source": [
    "Ts = np.arange(1, 9)\n",
    "expected_utilities = []\n",
    "\n",
    "for T in Ts:\n",
    "    expected_utilities.append(calculate_expected_utility(T, 5, u, int(1e7)))\n",
    "\n",
    "plt.scatter(Ts, expected_utilities, label='C_T=5')\n",
    "plt.ylabel('Expected utility')\n",
    "plt.xlabel('Number of rolls, T')\n",
    "plt.legend()\n",
    "plt.show()"
   ]
  },
  {
   "cell_type": "markdown",
   "id": "e1ba01fd-d56a-4eae-93f4-8f7b15879814",
   "metadata": {},
   "source": [
    "From the above plot, we can see that, within this range, the expected utility is positive for $T \\in \\{4, 5, 6, 7 \\}$ so the player would be prepared to play for these values of $T$ if the only choices were to not participate or play at each value of $T$."
   ]
  },
  {
   "cell_type": "markdown",
   "id": "d609981f-8847-4892-be91-4981e2db3be0",
   "metadata": {},
   "source": [
    "## d)"
   ]
  },
  {
   "cell_type": "markdown",
   "id": "21ddbeca-d283-45c7-a11b-54f9b2aeb991",
   "metadata": {},
   "source": [
    "<div style=\"height:11.4cm;\">\n",
    "\n",
    "### i.\n",
    "\n",
    "We follow a similar argument to that presented in 1. a) i.\n",
    "\n",
    "If the die has two sides showing six, with the one side not present, then $Y_i \\sim \\text{Uniform}(0, 2, 3, 4, 5, 0)$ and\n",
    "\n",
    "$$\n",
    "\\mathbb{E}[Y_i] = \\frac{1}{6} \\left( 0 + 2 + 3 + 4 + 5 + 0 \\right) = \\frac{7}{3}.\n",
    "$$\n",
    "\n",
    "The probability of a six not being rolled on or after the second roll is $\\left( \\frac{2}{3} \\right) ^ {T-1}$.\n",
    "\n",
    "Therefore, we have that\n",
    "\n",
    "$$\n",
    "\\mathbb{E}[Y_T] = \\frac{7}{3} T \\left( \\frac{2}{3} \\right) ^ {T-1}.\n",
    "$$\n",
    "\n",
    "Combining this possibility with the possibility that the die is fair,\n",
    "\n",
    "$$\n",
    "\\mathbb{E}[Y_T - C_T] = \\left( 1 - p \\right) \\frac{5}{2} T \\left( \\frac{5}{6} \\right) ^ {T-1} + p \\frac{7}{3} T \\left( \\frac{2}{3} \\right) ^ {T-1} - C_T\n",
    "$$\n",
    "\n",
    "$$\n",
    "\\mathbb{E}[Y_T - C_T] = \\left( 1 - p \\right) \\frac{5}{2} T \\left( \\frac{5}{6} \\right) ^ {T-1} + p \\frac{7}{3} T \\left( \\frac{2}{3} \\right) ^ {T-1} - 0.2T - 3.\n",
    "$$"
   ]
  },
  {
   "cell_type": "markdown",
   "id": "06b5f133-e0da-4eb8-b979-6eac0528675a",
   "metadata": {},
   "source": [
    "### ii."
   ]
  },
  {
   "cell_type": "code",
   "execution_count": 8,
   "id": "6191cd44-7d4a-47e3-8646-143b8562a184",
   "metadata": {},
   "outputs": [
    {
     "data": {
      "image/png": "[encoded data removed]",
      "text/plain": [
       "<Figure size 640x480 with 1 Axes>"
      ]
     },
     "metadata": {},
     "output_type": "display_data"
    }
   ],
   "source": [
    "def calculate_expected_profit(T, p):\n",
    "    # Use the equation above\n",
    "    return (1-p) * (5/2) * T * (5/6) ** (T-1) + p * (7/3) * T * (2/3) ** (T-1) - 0.2 * T - 3\n",
    "\n",
    "ps = [0.05, 0.2, 0.5, 0.8]\n",
    "\n",
    "# Calculate the expected profit for each T and p\n",
    "expected_profits = {}\n",
    "for p in ps:\n",
    "    expected_profits[p] = [calculate_expected_profit(T, p) for T in Ts]\n",
    "\n",
    "# Find the value of T that maximises the expected profit for each p\n",
    "optimal_Ts = {}\n",
    "for p in ps:\n",
    "    optimal_Ts[p] = Ts[np.argmax(expected_profits[p])]\n",
    "\n",
    "for p in ps:\n",
    "    color = plt.cm.viridis(p)\n",
    "    plt.scatter(Ts, expected_profits[p], label=f'p = {p}', color=color)\n",
    "    # Plot dashed vertical lines at the values of T that maximise the expected profit\n",
    "    plt.axvline(x=optimal_Ts[p], label=f'T_opt (p={p})', linestyle='--', color=color)\n",
    "\n",
    "plt.ylabel('Expected profit')\n",
    "plt.xlabel('Number of rolls, T')\n",
    "plt.legend()\n",
    "plt.show()"
   ]
  },
  {
   "cell_type": "markdown",
   "id": "b8b77ee4-d752-4628-b1d8-881c8bb9bc08",
   "metadata": {},
   "source": [
    "For $p=0.05$, the optimal playing strategy is to take $5$ rolls.\n",
    "\n",
    "For $p=0.2$, the optimal playing strategy is to take $4$ rolls.\n",
    "\n",
    "For $p=0.5$, the optimal playing strategy is to take $3$ rolls.\n",
    "\n",
    "For $p=0.8$, the optimal playing strategy is to not participate."
   ]
  },
  {
   "cell_type": "markdown",
   "id": "a4350a64-e76a-4cb3-abda-e68449d9e57b",
   "metadata": {},
   "source": [
    "# Question 2"
   ]
  },
  {
   "cell_type": "markdown",
   "id": "16abbe62-af4a-4d2a-9614-b32ea62a7f26",
   "metadata": {},
   "source": [
    "## a)"
   ]
  },
  {
   "cell_type": "markdown",
   "id": "9c549d27-f388-41a3-9186-a1cb0e22e950",
   "metadata": {},
   "source": [
    "### i.\n",
    "\n",
    "If $\\mathcal{G}$ was a tree, then each node apart from one (the root) would have exactly one parent. However, $X_5$, $X_6$, $X_7$, $X_8$, $X_9$ and $X_{10}$ each have two parents. Therefore, by contradiction, $\\mathcal{G}$ is not a tree."
   ]
  },
  {
   "cell_type": "markdown",
   "id": "ad4fc26d-1074-47ff-8582-7c95616d17eb",
   "metadata": {},
   "source": [
    "### ii."
   ]
  },
  {
   "cell_type": "code",
   "execution_count": 9,
   "id": "b179f170-0b0f-44b2-865c-8c65237732a7",
   "metadata": {},
   "outputs": [],
   "source": [
    "# Define G\n",
    "model = BayesianNetwork([('X_1', 'X_5'), ('X_2', 'X_5'), ('X_2', 'X_6'),\n",
    "                         ('X_3', 'X_6'), ('X_3', 'X_7'), ('X_4', 'X_7'),\n",
    "                         ('X_5', 'X_8'), ('X_6', 'X_8'), ('X_6', 'X_9'),\n",
    "                         ('X_7', 'X_9'), ('X_8', 'X_10'), ('X_9', 'X_10')])"
   ]
  },
  {
   "cell_type": "code",
   "execution_count": 10,
   "id": "a5609349-52cf-4d54-9a27-f24d85464e90",
   "metadata": {},
   "outputs": [
    {
     "data": {
      "image/png": "[encoded data removed]",
      "text/plain": [
       "<Figure size 640x480 with 1 Axes>"
      ]
     },
     "metadata": {},
     "output_type": "display_data"
    }
   ],
   "source": [
    "# Plot the graph\n",
    "pos = {\n",
    "    'X_1': (1, 4),\n",
    "    'X_2': (3, 4),\n",
    "    'X_3': (5, 4),\n",
    "    'X_4': (7, 4),\n",
    "    'X_5': (2, 3),\n",
    "    'X_6': (4, 3),\n",
    "    'X_7': (6, 3),\n",
    "    'X_8': (3, 2),\n",
    "    'X_9': (5, 2),\n",
    "    'X_10': (4, 1)\n",
    "}\n",
    "nx.draw(model, with_labels=True, node_size = 800, node_color = 'lightblue', pos=pos)\n",
    "plt.show()"
   ]
  },
  {
   "cell_type": "markdown",
   "id": "857635bb-cc79-4d6a-afe2-d798cdcda618",
   "metadata": {},
   "source": [
    "## b)\n",
    "\n",
    "### i.\n",
    "\n",
    "By Bayes’ theorem,\n",
    "\n",
    "$$\n",
    "P( X_1 = 0 \\ | \\ X_5 = 1 ) = \\frac{ P( X_5 = 1 \\ | \\  X_1 = 0 ) \\ P( X_1 = 0 ) } { P( X_5 = 1 ) }.\n",
    "$$\n",
    "\n",
    "Note that $X_1, X_2 \\sim \\text{Uniform}(0, 1, \\ldots, 10)$.\n",
    "\n",
    "Evaluate $P( X_5 = 1 \\  | \\  X_1 = 0 )$.\n",
    "\n",
    "$$\n",
    "P( X_5 = 1 \\  | \\  X_1 = 0 ) = \\frac {1} {11} \\sum _ {i=0} ^ {10} P( X_5 = 1 \\  | \\  X_1 = 0, X_2 = i )\n",
    "$$\n",
    "$$\n",
    "P( X_5 = 1 \\  | \\  X_1 = 0 ) = \\frac {1} {11} \\left( \\sum _ {i=0} ^ {10} \\frac{1}{i + 1} - 1 \\right)\n",
    "$$\n",
    "$$\n",
    "P( X_5 = 1 \\  | \\  X_1 = 0 ) = 0.18362521317066768\n",
    "$$\n",
    "\n",
    "Note that the subtraction of $1$ is a necessary correction due to the fact that $P( X_5 = 1 \\  | \\  X_1 = 0, X_2 = 0 ) = 0$.\n",
    "\n",
    "Evaluate $P( X_1 = 0 )$.\n",
    "\n",
    "$$\n",
    "P( X_1 = 0 ) = \\frac {1} {11} = 0.09090909090909091\n",
    "$$\n",
    "\n",
    "Evaluate $P( X_5 = 1 )$.\n",
    "\n",
    "$$\n",
    "P( X_5 = 1 ) = \\frac {1} {11^2} \\sum _ {i=0} ^ {10} \\sum _ {j=0} ^ {10} P( X_5 = 1 \\  | \\  X_1 = i, X_2 = j )\n",
    "$$\n",
    "$$\n",
    "P( X_5 = 1 ) = \\frac {1} {11^2} \\left( \\sum _ {i=0} ^ {10} \\sum _ {j=0} ^ {10} \\frac{1}{i + j + 1} - 1 \\right)\n",
    "$$\n",
    "$$\n",
    "P( X_5 = 1 ) = 0.11372388361552443\n",
    "$$\n",
    "\n",
    "Plugging the above into Bayes’ theorem, we have that\n",
    "\n",
    "$$\n",
    "P( X_1 = 0 \\ | \\ X_5 = 1 ) = 0.1468 \\ \\text{to 4 decimal places}.\n",
    "$$"
   ]
  },
  {
   "cell_type": "markdown",
   "id": "45aaf0b9-36a2-44f5-a4cf-fbebb8834a7b",
   "metadata": {},
   "source": [
    "### ii.\n",
    "\n",
    "Since $X_1 \\sim \\text{Uniform}(0, 1, \\ldots, 10)$, $\\mathbb{E}[X_1] = \\frac {0 + 10} {2} = 5$. This argument can be applied to $X_2$, $X_3$ and $X_4$.\n",
    "\n",
    "For the remaining nodes, we start by establishing the following two results.\n",
    "\n",
    "**Lemma 2.1:** For two discrete random variables $X$, $Y$, if $Z \\sim \\text{Uniform}(0, 1, \\ldots , X + Y)$, then $\\mathbb{E}[Z] = \\frac {1} {2} \\mathbb{E}[ X + Y ]$.\n",
    "\n",
    "**Proof:**\n",
    "\n",
    "By the Law of Total Expectation,\n",
    "\n",
    "$$\n",
    "\\mathbb{E}[Z] = \\mathbb{E}[\\mathbb{E}[Z \\ | \\  X + Y]].\n",
    "$$\n",
    "\n",
    "It then follows that\n",
    "\n",
    "$$\n",
    "\\mathbb{E}[Z] = \\mathbb{E} \\left[ \\frac{ X + Y } { 2 } \\right] = \\frac {1} {2} \\mathbb{E}[ X + Y ].\n",
    "$$\n",
    "\n",
    "**End of proof.**\n",
    "\n",
    "**Lemma 2.2:** For two discrete random variables $X$, $Y$, $\\mathbb{E}[X + Y] = \\mathbb{E}[X] + \\mathbb{E}[Y]$.\n",
    "\n",
    "**Proof:**\n",
    "\n",
    "$$\n",
    "\\mathbb{E}[X+Y] = \\sum_x \\sum_y [(x+y)P(X=x,Y=y)]\n",
    "$$\n",
    "$$\n",
    "\\mathbb{E}[X+Y] = \\sum_x \\sum_y \\left[xP(X=x,Y=y)\\right] + \\sum_x \\sum_y \\left[yP(X=x,Y=y)\\right]\n",
    "$$\n",
    "$$\n",
    "\\mathbb{E}[X+Y] = \\sum_x x \\sum_y [P(X=x,Y=y)] + \\sum_y y \\sum_x [P(X=x,Y=y)]\n",
    "$$\n",
    "$$\n",
    "\\mathbb{E}[X+Y] = \\sum_x x P(X=x) + \\sum_y y P(Y=y)\n",
    "$$\n",
    "$$\n",
    "\\mathbb{E}[X+Y] = \\mathbb{E}[X] + \\mathbb{E}[Y]\n",
    "$$\n",
    "\n",
    "**End of proof.**\n",
    "\n",
    "Now consider $X_5$.\n",
    "\n",
    "From Lemma 2.1,\n",
    "\n",
    "$$\n",
    "\\mathbb{E}[X_5] = \\frac {1} {2} \\mathbb{E}[X_1 + X_2].\n",
    "$$\n",
    "\n",
    "From Lemma 2.2,\n",
    "\n",
    "$$\n",
    "\\mathbb{E}[X_1 + X_2] = \\mathbb{E}[X_1] + \\mathbb{E}[X_2].\n",
    "$$\n",
    "\n",
    "Combining the above, we have that\n",
    "\n",
    "$$\n",
    "\\mathbb{E}[X_5] = \\frac {1} {2} \\left( \\mathbb{E}[X_1] + \\mathbb{E}[X_2] \\right) = \\frac {1} {2} \\left( 5 + 5 \\right) = 5.\n",
    "$$\n",
    "\n",
    "This argument can be applied to $X_6$, $X_7$, $X_8$, $X_9$ and $X_{10}$, which gives the required result."
   ]
  },
  {
   "cell_type": "markdown",
   "id": "983cb75c-d618-4027-b99c-c3ec756c2a94",
   "metadata": {},
   "source": [
    "## c)"
   ]
  },
  {
   "cell_type": "markdown",
   "id": "50d12583-b13b-4493-afbd-902129cea345",
   "metadata": {},
   "source": [
    "### i."
   ]
  },
  {
   "cell_type": "code",
   "execution_count": 11,
   "id": "ce95586e-9a6c-4759-92cc-872f399bd7bb",
   "metadata": {},
   "outputs": [],
   "source": [
    "# Define the CPDs\n",
    "\n",
    "# Use the distribution in Equation 2\n",
    "values_1_2_3_4 = [[1/11]]*11\n",
    "cpd_1 = TabularCPD(variable='X_1', variable_card=11, values=values_1_2_3_4)\n",
    "cpd_2 = TabularCPD(variable='X_2', variable_card=11, values=values_1_2_3_4)\n",
    "cpd_3 = TabularCPD(variable='X_3', variable_card=11, values=values_1_2_3_4)\n",
    "cpd_4 = TabularCPD(variable='X_4', variable_card=11, values=values_1_2_3_4)"
   ]
  },
  {
   "cell_type": "code",
   "execution_count": 12,
   "id": "9fd30891-9dcb-4bd9-8f0f-094fc1465c0d",
   "metadata": {},
   "outputs": [],
   "source": [
    "# For conciseness, define a function to create the 2D values list for a node given the possible values of the two parent nodes\n",
    "def create_values(possible_parent_values):\n",
    "    # Initialise an array to store the CPDs\n",
    "    # Rows correspond to possible values of the node\n",
    "    # Columns correspond to permutations of the possible values of the two parent nodes\n",
    "    P = np.zeros((2 * len(possible_parent_values) - 1, len(possible_parent_values) ** 2))\n",
    "    column = 0\n",
    "    for parent_1 in possible_parent_values:\n",
    "        for parent_2 in possible_parent_values:\n",
    "            # Use the distribution in Equation 2\n",
    "            P[0 : parent_1 + parent_2 + 1, column] = 1 / (parent_1 + parent_2 + 1)\n",
    "            column += 1\n",
    "    # Convert to 2D list to be compatible with TabularCPD function\n",
    "    return P.tolist()"
   ]
  },
  {
   "cell_type": "code",
   "execution_count": 13,
   "id": "8b5c6088-91da-4e6d-909b-aef3283e0992",
   "metadata": {},
   "outputs": [],
   "source": [
    "# The parent nodes of X_5, X_6, X_7 can take the values 0, 1, ..., 10\n",
    "values_5_6_7 = create_values(np.arange(0, 11))\n",
    "cpd_5 = TabularCPD(variable='X_5', variable_card=21, values=values_5_6_7,\n",
    "                   evidence=['X_1', 'X_2'], evidence_card=[11, 11])\n",
    "cpd_6 = TabularCPD(variable='X_6', variable_card=21, values=values_5_6_7,\n",
    "                   evidence=['X_2', 'X_3'], evidence_card=[11, 11])\n",
    "cpd_7 = TabularCPD(variable='X_7', variable_card=21, values=values_5_6_7,\n",
    "                   evidence=['X_3', 'X_4'], evidence_card=[11, 11])\n",
    "\n",
    "# The parent nodes of X_8, X_9 can take the values 0, 1, ..., 20\n",
    "values_8_9 = create_values(np.arange(0, 21))\n",
    "cpd_8 = TabularCPD(variable='X_8', variable_card=41, values=values_8_9,\n",
    "                   evidence=['X_5', 'X_6'], evidence_card=[21, 21])\n",
    "cpd_9 = TabularCPD(variable='X_9', variable_card=41, values=values_8_9,\n",
    "                   evidence=['X_6', 'X_7'], evidence_card=[21, 21])\n",
    "\n",
    "# The parent nodes of X_10 can take the values 0, 1, ..., 40\n",
    "values_10 = create_values(np.arange(0, 41))\n",
    "cpd_10 = TabularCPD(variable='X_10', variable_card=81, values=values_10,\n",
    "                    evidence=['X_8', 'X_9'], evidence_card=[41, 41])"
   ]
  },
  {
   "cell_type": "code",
   "execution_count": 14,
   "id": "c1f53a6b-e976-4d35-a67f-04d68a4dd6a5",
   "metadata": {},
   "outputs": [
    {
     "data": {
      "text/plain": [
       "True"
      ]
     },
     "execution_count": 14,
     "metadata": {},
     "output_type": "execute_result"
    }
   ],
   "source": [
    "# Associate the CPDs with the graph\n",
    "model.add_cpds(cpd_1, cpd_2, cpd_3, cpd_4, cpd_5, cpd_6, cpd_7, cpd_8, cpd_9, cpd_10)\n",
    "\n",
    "# Check that the CPDs are correctly defined\n",
    "model.check_model()"
   ]
  },
  {
   "cell_type": "code",
   "execution_count": 15,
   "id": "01d4fd26-5210-4738-8194-c9c0b99212bf",
   "metadata": {},
   "outputs": [
    {
     "name": "stdout",
     "output_type": "stream",
     "text": [
      "P(X_3 = 1 | X_7 = 1) = 0.15284306056815314\n"
     ]
    }
   ],
   "source": [
    "infer = VariableElimination(model)\n",
    "\n",
    "# Evaluate P(X_3 = 1 | X_7 = 1)\n",
    "posterior = infer.query(variables=['X_3'], evidence={'X_7': 1})\n",
    "print('P(X_3 = 1 | X_7 = 1) =', posterior.values[1])"
   ]
  },
  {
   "cell_type": "markdown",
   "id": "7f0a154c-9fb9-4fdf-98d8-a6ccddb2ad8d",
   "metadata": {},
   "source": [
    "### ii."
   ]
  },
  {
   "cell_type": "code",
   "execution_count": 16,
   "id": "193ec11b-3665-4097-8621-8035f34d9ba5",
   "metadata": {},
   "outputs": [
    {
     "name": "stdout",
     "output_type": "stream",
     "text": [
      "Cardinality of each node variable:\n",
      "{'X_1': 11, 'X_2': 11, 'X_3': 11, 'X_4': 11, 'X_5': 21, 'X_6': 21, 'X_7': 21, 'X_8': 41, 'X_9': 41, 'X_10': 81}\n"
     ]
    }
   ],
   "source": [
    "cardinalities = {}\n",
    "for node in ['X_1', 'X_2', 'X_3', 'X_4', 'X_5', 'X_6', 'X_7', 'X_8', 'X_9', 'X_10']:\n",
    "    cardinalities[node] = model.get_cardinality(node)\n",
    "\n",
    "# Display the cardinality of each node variable\n",
    "print(\"Cardinality of each node variable:\")\n",
    "print(cardinalities)"
   ]
  },
  {
   "cell_type": "markdown",
   "id": "578c16f4-056c-432c-a707-f2ed846e356c",
   "metadata": {},
   "source": [
    "### iii."
   ]
  },
  {
   "cell_type": "code",
   "execution_count": 17,
   "id": "28050ea1-126c-4960-8404-5a9c32705f2e",
   "metadata": {},
   "outputs": [
    {
     "name": "stdout",
     "output_type": "stream",
     "text": [
      "P(X_10 = 80) = 5.4164986949938696e-14\n"
     ]
    }
   ],
   "source": [
    "infer = VariableElimination(model)\n",
    "\n",
    "# Evaluate the marginal probability P(X_10 = 80)\n",
    "posterior = infer.query(variables=['X_10'], evidence={})\n",
    "print('P(X_10 = 80) =', posterior.values[80])"
   ]
  },
  {
   "cell_type": "markdown",
   "id": "aaee1fd9-19e7-44e4-8f48-2ca17b1cfbe8",
   "metadata": {},
   "source": [
    "### iv."
   ]
  },
  {
   "cell_type": "code",
   "execution_count": 18,
   "id": "0352c449-93b2-4a2d-acdf-fbcc4e987cbe",
   "metadata": {},
   "outputs": [
    {
     "data": {
      "application/vnd.jupyter.widget-view+json": {
       "model_id": "00607c23f49c432e867f0e9429db239f",
       "version_major": 2,
       "version_minor": 0
      },
      "text/plain": [
       "  0%|          | 0/10 [00:00<?, ?it/s]"
      ]
     },
     "metadata": {},
     "output_type": "display_data"
    },
    {
     "name": "stderr",
     "output_type": "stream",
     "text": [
      "WARNING:pgmpy:Probability values don't exactly sum to 1. Differ by: 5.551115123125783e-16. Adjusting values.\n",
      "WARNING:pgmpy:Probability values don't exactly sum to 1. Differ by: -2.220446049250313e-16. Adjusting values.\n",
      "WARNING:pgmpy:Probability values don't exactly sum to 1. Differ by: 5.551115123125783e-16. Adjusting values.\n",
      "WARNING:pgmpy:Probability values don't exactly sum to 1. Differ by: -2.220446049250313e-16. Adjusting values.\n",
      "WARNING:pgmpy:Probability values don't exactly sum to 1. Differ by: 5.551115123125783e-16. Adjusting values.\n",
      "WARNING:pgmpy:Probability values don't exactly sum to 1. Differ by: -2.220446049250313e-16. Adjusting values.\n",
      "WARNING:pgmpy:Probability values don't exactly sum to 1. Differ by: 4.440892098500626e-16. Adjusting values.\n",
      "WARNING:pgmpy:Probability values don't exactly sum to 1. Differ by: -4.440892098500626e-16. Adjusting values.\n",
      "WARNING:pgmpy:Probability values don't exactly sum to 1. Differ by: 2.220446049250313e-16. Adjusting values.\n",
      "WARNING:pgmpy:Probability values don't exactly sum to 1. Differ by: -2.220446049250313e-16. Adjusting values.\n",
      "WARNING:pgmpy:Probability values don't exactly sum to 1. Differ by: 1.1102230246251565e-16. Adjusting values.\n",
      "WARNING:pgmpy:Probability values don't exactly sum to 1. Differ by: -2.220446049250313e-16. Adjusting values.\n"
     ]
    },
    {
     "name": "stdout",
     "output_type": "stream",
     "text": [
      "Pearson's correlation coefficient for the variables X_7 and X_8: 0.06375602279625439\n"
     ]
    }
   ],
   "source": [
    "sample = BayesianModelSampling(model)\n",
    "\n",
    "# Perform forward sampling to generate data\n",
    "data = sample.forward_sample(size=int(1e7))\n",
    "\n",
    "# Extract values of X_7 and X_8 from data\n",
    "X_7_values = data['X_7']\n",
    "X_8_values = data['X_8']\n",
    "\n",
    "# Calculate Pearson's correlation coefficient for the variables X_7 and X_8\n",
    "pearsons_correlation_coefficient = np.corrcoef(X_7_values, X_8_values)[0, 1]\n",
    "print(\"Pearson's correlation coefficient for the variables X_7 and X_8:\", pearsons_correlation_coefficient)"
   ]
  },
  {
   "cell_type": "markdown",
   "id": "7cd3489b-3160-4287-92b6-5beacb304a73",
   "metadata": {},
   "source": [
    "The warnings are simply due to the limited precision of floating-point numbers in Python."
   ]
  }
 ],
 "metadata": {
  "kernelspec": {
   "display_name": "islp_kernel",
   "language": "python",
   "name": "islp_kernel"
  },
  "language_info": {
   "codemirror_mode": {
    "name": "ipython",
    "version": 3
   },
   "file_extension": ".py",
   "mimetype": "text/x-python",
   "name": "python",
   "nbconvert_exporter": "python",
   "pygments_lexer": "ipython3",
   "version": "3.11.7"
  }
 },
 "nbformat": 4,
 "nbformat_minor": 5
}
