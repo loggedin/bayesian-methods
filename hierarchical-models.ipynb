{
 "cells": [
  {
   "cell_type": "code",
   "execution_count": 1,
   "id": "94773086-cf98-409d-bf2f-2d7b5134887f",
   "metadata": {},
   "outputs": [],
   "source": [
    "import matplotlib.pyplot as plt\n",
    "import networkx as nx\n",
    "import numpy as np\n",
    "import pylab as plt\n",
    "from pgmpy.factors.discrete import TabularCPD\n",
    "from pgmpy.inference import VariableElimination\n",
    "from pgmpy.models import BayesianNetwork\n",
    "from pgmpy.sampling import BayesianModelSampling"
   ]
  },
  {
   "cell_type": "markdown",
   "id": "ad4fc26d-1074-47ff-8582-7c95616d17eb",
   "metadata": {},
   "source": [
    "Consider the following DAG, $\\mathcal{G}$, depicting a belief network on $n = 10$ random variable nodes $X_1, \\ldots, X_{10}$."
   ]
  },
  {
   "cell_type": "code",
   "execution_count": 2,
   "id": "b179f170-0b0f-44b2-865c-8c65237732a7",
   "metadata": {},
   "outputs": [],
   "source": [
    "# Define G\n",
    "model = BayesianNetwork([('X_1', 'X_5'), ('X_2', 'X_5'), ('X_2', 'X_6'),\n",
    "                         ('X_3', 'X_6'), ('X_3', 'X_7'), ('X_4', 'X_7'),\n",
    "                         ('X_5', 'X_8'), ('X_6', 'X_8'), ('X_6', 'X_9'),\n",
    "                         ('X_7', 'X_9'), ('X_8', 'X_10'), ('X_9', 'X_10')])"
   ]
  },
  {
   "cell_type": "code",
   "execution_count": 3,
   "id": "a5609349-52cf-4d54-9a27-f24d85464e90",
   "metadata": {},
   "outputs": [
    {
     "data": {
      "image/png": "[encoded data removed]",
      "text/plain": [
       "<Figure size 640x480 with 1 Axes>"
      ]
     },
     "metadata": {},
     "output_type": "display_data"
    }
   ],
   "source": [
    "# Plot the graph\n",
    "pos = {\n",
    "    'X_1': (1, 4),\n",
    "    'X_2': (3, 4),\n",
    "    'X_3': (5, 4),\n",
    "    'X_4': (7, 4),\n",
    "    'X_5': (2, 3),\n",
    "    'X_6': (4, 3),\n",
    "    'X_7': (6, 3),\n",
    "    'X_8': (3, 2),\n",
    "    'X_9': (5, 2),\n",
    "    'X_10': (4, 1)\n",
    "}\n",
    "nx.draw(model, with_labels=True, node_size = 800, node_color = 'lightblue', pos=pos)\n",
    "plt.show()"
   ]
  },
  {
   "cell_type": "markdown",
   "id": "8b2ad6cb-78ad-4e34-b4b4-a6d9fdb24a85",
   "metadata": {},
   "source": [
    "Let $P_i = \\text{parents}_\\mathcal{G}(X_i)$ denote the parents of node $X_i$ in the graph $\\mathcal{G}$, and let $\\zeta_i = \\sum_{j: X_j \\in P_i} X_j$ denote the sum of values taken by the parent nodes of $X_i$. The joint probability distribution $\\mathbb{P}_\\mathcal{G}(X_1, \\ldots, X_n)$ for the belief network is specified by the following conditional probability distributions for individual nodes:\n",
    "\n",
    "$$\n",
    "X_i \\mid P_i \\sim \\begin{cases} \n",
    "\\text{Uniform}\\{0, 1, \\ldots, 10\\} & \\text{if } P_i = \\emptyset \\\\\n",
    "\\text{Uniform}\\{0, \\ldots, \\zeta_i\\} & \\text{if } P_i \\neq \\emptyset.\n",
    "\\end{cases}\n",
    "$$"
   ]
  },
  {
   "cell_type": "markdown",
   "id": "50d12583-b13b-4493-afbd-902129cea345",
   "metadata": {},
   "source": [
    "I will implement the conditional probabilities and use the code to evaluate $\\mathbb{P}(X_3 = 1 \\mid X_7 = 1)$."
   ]
  },
  {
   "cell_type": "code",
   "execution_count": 4,
   "id": "ce95586e-9a6c-4759-92cc-872f399bd7bb",
   "metadata": {},
   "outputs": [],
   "source": [
    "# Define the CPDs\n",
    "\n",
    "# Use the distribution in Equation 2\n",
    "values_1_2_3_4 = [[1/11]]*11\n",
    "cpd_1 = TabularCPD(variable='X_1', variable_card=11, values=values_1_2_3_4)\n",
    "cpd_2 = TabularCPD(variable='X_2', variable_card=11, values=values_1_2_3_4)\n",
    "cpd_3 = TabularCPD(variable='X_3', variable_card=11, values=values_1_2_3_4)\n",
    "cpd_4 = TabularCPD(variable='X_4', variable_card=11, values=values_1_2_3_4)"
   ]
  },
  {
   "cell_type": "code",
   "execution_count": 5,
   "id": "9fd30891-9dcb-4bd9-8f0f-094fc1465c0d",
   "metadata": {},
   "outputs": [],
   "source": [
    "# For conciseness, define a function to create the 2D values list for a node given the\n",
    "# possible values of the two parent nodes\n",
    "def create_values(possible_parent_values):\n",
    "    # Initialise an array to store the CPDs\n",
    "    # Rows correspond to possible values of the node\n",
    "    # Columns correspond to permutations of the possible values of the two parent nodes\n",
    "    P = np.zeros((2 * len(possible_parent_values) - 1, len(possible_parent_values) ** 2))\n",
    "    column = 0\n",
    "    for parent_1 in possible_parent_values:\n",
    "        for parent_2 in possible_parent_values:\n",
    "            # Use the distribution in Equation 2\n",
    "            P[0 : parent_1 + parent_2 + 1, column] = 1 / (parent_1 + parent_2 + 1)\n",
    "            column += 1\n",
    "    # Convert to 2D list to be compatible with TabularCPD function\n",
    "    return P.tolist()"
   ]
  },
  {
   "cell_type": "code",
   "execution_count": 6,
   "id": "8b5c6088-91da-4e6d-909b-aef3283e0992",
   "metadata": {},
   "outputs": [],
   "source": [
    "# The parent nodes of X_5, X_6, X_7 can take the values 0, 1, ..., 10\n",
    "values_5_6_7 = create_values(np.arange(0, 11))\n",
    "cpd_5 = TabularCPD(variable='X_5', variable_card=21, values=values_5_6_7,\n",
    "                   evidence=['X_1', 'X_2'], evidence_card=[11, 11])\n",
    "cpd_6 = TabularCPD(variable='X_6', variable_card=21, values=values_5_6_7,\n",
    "                   evidence=['X_2', 'X_3'], evidence_card=[11, 11])\n",
    "cpd_7 = TabularCPD(variable='X_7', variable_card=21, values=values_5_6_7,\n",
    "                   evidence=['X_3', 'X_4'], evidence_card=[11, 11])\n",
    "\n",
    "# The parent nodes of X_8, X_9 can take the values 0, 1, ..., 20\n",
    "values_8_9 = create_values(np.arange(0, 21))\n",
    "cpd_8 = TabularCPD(variable='X_8', variable_card=41, values=values_8_9,\n",
    "                   evidence=['X_5', 'X_6'], evidence_card=[21, 21])\n",
    "cpd_9 = TabularCPD(variable='X_9', variable_card=41, values=values_8_9,\n",
    "                   evidence=['X_6', 'X_7'], evidence_card=[21, 21])\n",
    "\n",
    "# The parent nodes of X_10 can take the values 0, 1, ..., 40\n",
    "values_10 = create_values(np.arange(0, 41))\n",
    "cpd_10 = TabularCPD(variable='X_10', variable_card=81, values=values_10,\n",
    "                    evidence=['X_8', 'X_9'], evidence_card=[41, 41])"
   ]
  },
  {
   "cell_type": "code",
   "execution_count": 7,
   "id": "c1f53a6b-e976-4d35-a67f-04d68a4dd6a5",
   "metadata": {},
   "outputs": [
    {
     "data": {
      "text/plain": [
       "True"
      ]
     },
     "execution_count": 7,
     "metadata": {},
     "output_type": "execute_result"
    }
   ],
   "source": [
    "# Associate the CPDs with the graph\n",
    "model.add_cpds(cpd_1, cpd_2, cpd_3, cpd_4, cpd_5, cpd_6, cpd_7, cpd_8, cpd_9, cpd_10)\n",
    "\n",
    "# Check that the CPDs are correctly defined\n",
    "model.check_model()"
   ]
  },
  {
   "cell_type": "code",
   "execution_count": 8,
   "id": "01d4fd26-5210-4738-8194-c9c0b99212bf",
   "metadata": {},
   "outputs": [
    {
     "name": "stdout",
     "output_type": "stream",
     "text": [
      "P(X_3 = 1 | X_7 = 1) = 0.15284306056815314\n"
     ]
    }
   ],
   "source": [
    "infer = VariableElimination(model)\n",
    "\n",
    "# Evaluate P(X_3 = 1 | X_7 = 1)\n",
    "posterior = infer.query(variables=['X_3'], evidence={'X_7': 1})\n",
    "print('P(X_3 = 1 | X_7 = 1) =', posterior.values[1])"
   ]
  },
  {
   "cell_type": "markdown",
   "id": "7f0a154c-9fb9-4fdf-98d8-a6ccddb2ad8d",
   "metadata": {},
   "source": [
    "The cardinality of a node is the number of possible values which it can take with non-zero probability."
   ]
  },
  {
   "cell_type": "code",
   "execution_count": 9,
   "id": "193ec11b-3665-4097-8621-8035f34d9ba5",
   "metadata": {},
   "outputs": [
    {
     "name": "stdout",
     "output_type": "stream",
     "text": [
      "Cardinality of each node variable:\n",
      "{'X_1': 11, 'X_2': 11, 'X_3': 11, 'X_4': 11, 'X_5': 21, 'X_6': 21, 'X_7': 21, 'X_8': 41, 'X_9': 41, 'X_10': 81}\n"
     ]
    }
   ],
   "source": [
    "cardinalities = {}\n",
    "for node in ['X_1', 'X_2', 'X_3', 'X_4', 'X_5', 'X_6', 'X_7', 'X_8', 'X_9', 'X_10']:\n",
    "    cardinalities[node] = model.get_cardinality(node)\n",
    "\n",
    "# Display the cardinality of each node variable\n",
    "print(\"Cardinality of each node variable:\")\n",
    "print(cardinalities)"
   ]
  },
  {
   "cell_type": "markdown",
   "id": "578c16f4-056c-432c-a707-f2ed846e356c",
   "metadata": {},
   "source": [
    "I will calculate the marginal probability $\\mathbb{P}(X_{10} = 80)$."
   ]
  },
  {
   "cell_type": "code",
   "execution_count": 10,
   "id": "28050ea1-126c-4960-8404-5a9c32705f2e",
   "metadata": {},
   "outputs": [
    {
     "name": "stdout",
     "output_type": "stream",
     "text": [
      "P(X_10 = 80) = 5.4164986949938696e-14\n"
     ]
    }
   ],
   "source": [
    "infer = VariableElimination(model)\n",
    "\n",
    "# Evaluate the marginal probability P(X_10 = 80)\n",
    "posterior = infer.query(variables=['X_10'], evidence={})\n",
    "print('P(X_10 = 80) =', posterior.values[80])"
   ]
  },
  {
   "cell_type": "markdown",
   "id": "aaee1fd9-19e7-44e4-8f48-2ca17b1cfbe8",
   "metadata": {},
   "source": [
    "I will calculate Pearson’s correlation coefficient for the variables $X_7$ and $X_8$."
   ]
  },
  {
   "cell_type": "code",
   "execution_count": 11,
   "id": "0352c449-93b2-4a2d-acdf-fbcc4e987cbe",
   "metadata": {},
   "outputs": [
    {
     "data": {
      "application/vnd.jupyter.widget-view+json": {
       "model_id": "7caf84ed11624d2fb72bce390e9e6631",
       "version_major": 2,
       "version_minor": 0
      },
      "text/plain": [
       "  0%|          | 0/10 [00:00<?, ?it/s]"
      ]
     },
     "metadata": {},
     "output_type": "display_data"
    },
    {
     "name": "stderr",
     "output_type": "stream",
     "text": [
      "WARNING:pgmpy:Probability values don't exactly sum to 1. Differ by: 5.551115123125783e-16. Adjusting values.\n",
      "WARNING:pgmpy:Probability values don't exactly sum to 1. Differ by: -2.220446049250313e-16. Adjusting values.\n",
      "WARNING:pgmpy:Probability values don't exactly sum to 1. Differ by: 5.551115123125783e-16. Adjusting values.\n",
      "WARNING:pgmpy:Probability values don't exactly sum to 1. Differ by: -2.220446049250313e-16. Adjusting values.\n",
      "WARNING:pgmpy:Probability values don't exactly sum to 1. Differ by: 5.551115123125783e-16. Adjusting values.\n",
      "WARNING:pgmpy:Probability values don't exactly sum to 1. Differ by: -2.220446049250313e-16. Adjusting values.\n",
      "WARNING:pgmpy:Probability values don't exactly sum to 1. Differ by: -4.440892098500626e-16. Adjusting values.\n",
      "WARNING:pgmpy:Probability values don't exactly sum to 1. Differ by: 2.220446049250313e-16. Adjusting values.\n",
      "WARNING:pgmpy:Probability values don't exactly sum to 1. Differ by: -2.220446049250313e-16. Adjusting values.\n",
      "WARNING:pgmpy:Probability values don't exactly sum to 1. Differ by: 1.1102230246251565e-16. Adjusting values.\n",
      "WARNING:pgmpy:Probability values don't exactly sum to 1. Differ by: -2.220446049250313e-16. Adjusting values.\n"
     ]
    },
    {
     "name": "stdout",
     "output_type": "stream",
     "text": [
      "Pearson's correlation coefficient for the variables X_7 and X_8: 0.06429685932836333\n"
     ]
    }
   ],
   "source": [
    "sample = BayesianModelSampling(model)\n",
    "\n",
    "# Perform forward sampling to generate data\n",
    "data = sample.forward_sample(size=int(1e7))\n",
    "\n",
    "# Extract values of X_7 and X_8 from data\n",
    "X_7_values = data['X_7']\n",
    "X_8_values = data['X_8']\n",
    "\n",
    "# Calculate Pearson's correlation coefficient for the variables X_7 and X_8\n",
    "pearsons_correlation_coefficient = np.corrcoef(X_7_values, X_8_values)[0, 1]\n",
    "print(\"Pearson's correlation coefficient for the variables X_7 and X_8:\", pearsons_correlation_coefficient)"
   ]
  },
  {
   "cell_type": "markdown",
   "id": "7cd3489b-3160-4287-92b6-5beacb304a73",
   "metadata": {},
   "source": [
    "The warnings are simply due to the limited precision of floating-point numbers in Python."
   ]
  }
 ],
 "metadata": {
  "kernelspec": {
   "display_name": "islp_kernel",
   "language": "python",
   "name": "islp_kernel"
  },
  "language_info": {
   "codemirror_mode": {
    "name": "ipython",
    "version": 3
   },
   "file_extension": ".py",
   "mimetype": "text/x-python",
   "name": "python",
   "nbconvert_exporter": "python",
   "pygments_lexer": "ipython3",
   "version": "3.11.7"
  }
 },
 "nbformat": 4,
 "nbformat_minor": 5
}
